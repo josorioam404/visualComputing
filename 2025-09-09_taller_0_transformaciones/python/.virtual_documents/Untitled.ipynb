pip install numpy matplotlib


import numpy as np
import matplotlib.pyplot as plt
from matplotlib.patches import Polygon
import math

class Transform2D:
    """Class for 2D geometric transformations using matrices"""
    
    @staticmethod
    def translation_matrix(dx, dy):
        """Create a 3x3 translation matrix for homogeneous coordinates"""
        return np.array([
            [1, 0, dx],
            [0, 1, dy],
            [0, 0, 1]
        ])
    
    @staticmethod
    def rotation_matrix(angle_degrees):
        """Create a 3x3 rotation matrix for homogeneous coordinates"""
        angle_rad = math.radians(angle_degrees)
        cos_a = math.cos(angle_rad)
        sin_a = math.sin(angle_rad)
        return np.array([
            [cos_a, -sin_a, 0],
            [sin_a, cos_a, 0],
            [0, 0, 1]
        ])
    
    @staticmethod
    def scaling_matrix(sx, sy):
        """Create a 3x3 scaling matrix for homogeneous coordinates"""
        return np.array([
            [sx, 0, 0],
            [0, sy, 0],
            [0, 0, 1]
        ])
    
    @staticmethod
    def apply_transformation(points, transformation_matrix):
        """Apply transformation matrix to a set of 2D points"""
        # Convert to homogeneous coordinates (add z=1)
        points_homo = np.ones((3, points.shape[1]))
        points_homo[:2, :] = points
        
        # Apply transformation
        transformed_homo = transformation_matrix @ points_homo
        
        # Convert back to 2D coordinates
        return transformed_homo[:2, :]

class Figure2D:
    """Class to create and manipulate 2D figures"""
    
    @staticmethod
    def create_rectangle(width, height, center_x=0, center_y=0):
        """Create a rectangle centered at (center_x, center_y)"""
        half_w, half_h = width/2, height/2
        points = np.array([
            [-half_w + center_x, half_w + center_x, half_w + center_x, -half_w + center_x, -half_w + center_x],
            [-half_h + center_y, -half_h + center_y, half_h + center_y, half_h + center_y, -half_h + center_y]
        ])
        return points
    
    @staticmethod
    def create_triangle(size=1, center_x=0, center_y=0):
        """Create an equilateral triangle"""
        height = size * math.sqrt(3) / 2
        points = np.array([
            [center_x, center_x + size/2, center_x - size/2, center_x],
            [center_y + height/2, center_y - height/2, center_y - height/2, center_y + height/2]
        ])
        return points
    
    @staticmethod
    def create_circle(radius=1, center_x=0, center_y=0, num_points=50):
        """Create a circle using discrete points"""
        angles = np.linspace(0, 2*math.pi, num_points)
        x = center_x + radius * np.cos(angles)
        y = center_y + radius * np.sin(angles)
        return np.array([x, y])

def plot_transformation_demo():
    """Demonstrate various transformations with visual comparison"""
    fig, axes = plt.subplots(2, 3, figsize=(15, 10))
    fig.suptitle('2D Geometric Transformations Using Matrices', fontsize=16, fontweight='bold')
    
    # Original shape (rectangle)
    original = Figure2D.create_rectangle(4, 2, 0, 0)
    
    # 1. Translation
    ax1 = axes[0, 0]
    translation_mat = Transform2D.translation_matrix(3, 2)
    translated = Transform2D.apply_transformation(original, translation_mat)
    
    ax1.plot(original[0], original[1], 'b-', linewidth=2, label='Original')
    ax1.plot(translated[0], translated[1], 'r--', linewidth=2, label='Translated (3, 2)')
    ax1.set_title('Translation')
    ax1.grid(True, alpha=0.3)
    ax1.legend()
    ax1.set_xlim(-3, 8)
    ax1.set_ylim(-2, 5)
    ax1.set_aspect('equal')
    
    # 2. Rotation
    ax2 = axes[0, 1]
    rotation_mat = Transform2D.rotation_matrix(45)
    rotated = Transform2D.apply_transformation(original, rotation_mat)
    
    ax2.plot(original[0], original[1], 'b-', linewidth=2, label='Original')
    ax2.plot(rotated[0], rotated[1], 'g--', linewidth=2, label='Rotated 45°')
    ax2.set_title('Rotation')
    ax2.grid(True, alpha=0.3)
    ax2.legend()
    ax2.set_xlim(-4, 4)
    ax2.set_ylim(-4, 4)
    ax2.set_aspect('equal')
    
    # 3. Scaling
    ax3 = axes[0, 2]
    scaling_mat = Transform2D.scaling_matrix(1.5, 0.5)
    scaled = Transform2D.apply_transformation(original, scaling_mat)
    
    ax3.plot(original[0], original[1], 'b-', linewidth=2, label='Original')
    ax3.plot(scaled[0], scaled[1], 'm--', linewidth=2, label='Scaled (1.5x, 0.5y)')
    ax3.set_title('Scaling')
    ax3.grid(True, alpha=0.3)
    ax3.legend()
    ax3.set_xlim(-4, 4)
    ax3.set_ylim(-2, 2)
    ax3.set_aspect('equal')
    
    # 4. Combined Transformation (Scale + Rotate + Translate)
    ax4 = axes[1, 0]
    combined_mat = Transform2D.translation_matrix(2, 1) @ Transform2D.rotation_matrix(30) @ Transform2D.scaling_matrix(0.8, 1.2)
    combined = Transform2D.apply_transformation(original, combined_mat)
    
    ax4.plot(original[0], original[1], 'b-', linewidth=2, label='Original')
    ax4.plot(combined[0], combined[1], 'orange', linestyle='--', linewidth=2, label='Combined Transform')
    ax4.set_title('Combined Transformation\n(Scale → Rotate → Translate)')
    ax4.grid(True, alpha=0.3)
    ax4.legend()
    ax4.set_xlim(-3, 6)
    ax4.set_ylim(-2, 4)
    ax4.set_aspect('equal')
    
    # 5. Multiple shapes
    ax5 = axes[1, 1]
    triangle = Figure2D.create_triangle(2, -2, -1)
    circle = Figure2D.create_circle(1, 2, 1)
    
    # Apply same transformation to all shapes
    transform_mat = Transform2D.rotation_matrix(60)
    rect_transformed = Transform2D.apply_transformation(original, transform_mat)
    tri_transformed = Transform2D.apply_transformation(triangle, transform_mat)
    circle_transformed = Transform2D.apply_transformation(circle, transform_mat)
    
    ax5.plot(original[0], original[1], 'b-', linewidth=2, label='Rectangle')
    ax5.plot(triangle[0], triangle[1], 'g-', linewidth=2, label='Triangle')
    ax5.plot(circle[0], circle[1], 'm-', linewidth=2, label='Circle')
    
    ax5.plot(rect_transformed[0], rect_transformed[1], 'b--', linewidth=2, alpha=0.7)
    ax5.plot(tri_transformed[0], tri_transformed[1], 'g--', linewidth=2, alpha=0.7)
    ax5.plot(circle_transformed[0], circle_transformed[1], 'm--', linewidth=2, alpha=0.7)
    
    ax5.set_title('Multiple Shapes\n(Solid: Original, Dashed: Rotated 60°)')
    ax5.grid(True, alpha=0.3)
    ax5.legend()
    ax5.set_xlim(-4, 4)
    ax5.set_ylim(-4, 4)
    ax5.set_aspect('equal')
    
    # 6. Matrix composition demonstration
    ax6 = axes[1, 2]
    
    # Step-by-step transformation
    step1 = Transform2D.apply_transformation(original, Transform2D.scaling_matrix(1.2, 0.8))
    step2 = Transform2D.apply_transformation(step1, Transform2D.rotation_matrix(45))
    step3 = Transform2D.apply_transformation(step2, Transform2D.translation_matrix(1, 1))
    
    # Single combined matrix
    combined_single = (Transform2D.translation_matrix(1, 1) @ 
                      Transform2D.rotation_matrix(45) @ 
                      Transform2D.scaling_matrix(1.2, 0.8))
    direct_transform = Transform2D.apply_transformation(original, combined_single)
    
    ax6.plot(original[0], original[1], 'b-', linewidth=3, label='Original')
    ax6.plot(step1[0], step1[1], 'c:', linewidth=2, label='1. Scaled')
    ax6.plot(step2[0], step2[1], 'y:', linewidth=2, label='2. + Rotated')
    ax6.plot(step3[0], step3[1], 'r-', linewidth=2, label='3. + Translated')
    ax6.plot(direct_transform[0], direct_transform[1], 'k--', linewidth=3, alpha=0.5, label='Direct (Combined Matrix)')
    
    ax6.set_title('Matrix Composition\n(Step-by-step vs Direct)')
    ax6.grid(True, alpha=0.3)
    ax6.legend(fontsize=8)
    ax6.set_xlim(-3, 5)
    ax6.set_ylim(-2, 4)
    ax6.set_aspect('equal')
    
    plt.tight_layout()
    plt.show()

def interactive_transformation():
    """Create an interactive demonstration of transformations"""
    print("=== 2D Transformation Matrices Demo ===\n")
    
    # Display transformation matrices
    print("Transformation Matrices:")
    print("\n1. Translation Matrix:")
    print("   [1  0  dx]")
    print("   [0  1  dy]")
    print("   [0  0  1 ]")
    
    print("\n2. Rotation Matrix (angle θ):")
    print("   [cos(θ) -sin(θ)  0]")
    print("   [sin(θ)  cos(θ)  0]")
    print("   [  0       0     1]")
    
    print("\n3. Scaling Matrix:")
    print("   [sx  0   0]")
    print("   [0   sy  0]")
    print("   [0   0   1]")
    
    # Create and transform a shape
    original_shape = Figure2D.create_rectangle(3, 2)
    print(f"\nOriginal rectangle vertices:\n{original_shape}")
    
    # Apply transformations
    transforms = {
        'Translation (2, 3)': Transform2D.translation_matrix(2, 3),
        'Rotation 30°': Transform2D.rotation_matrix(30),
        'Scaling (1.5, 0.8)': Transform2D.scaling_matrix(1.5, 0.8)
    }
    
    for name, matrix in transforms.items():
        transformed = Transform2D.apply_transformation(original_shape, matrix)
        print(f"\n{name}:")
        print(f"Matrix:\n{matrix}")
        print(f"Transformed vertices:\n{transformed}")

if __name__ == "__main__":
    # Run the demonstrations
    print("Running 2D Geometric Transformations Demo...")
    
    # Show interactive text output
    interactive_transformation()
    
    # Show visual demonstration
    plot_transformation_demo()
    
    print("\n=== Demo completed! ===")
    print("The plot window shows various 2D transformations:")
    print("- Translation: Moving shapes in space")
    print("- Rotation: Rotating shapes around the origin")
    print("- Scaling: Changing the size of shapes")
    print("- Combined transformations: Multiple operations in sequence")
    print("- Multiple shapes: Same transformation applied to different geometries")
    print("- Matrix composition: Step-by-step vs direct transformation")



